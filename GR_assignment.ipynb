{
 "cells": [
  {
   "cell_type": "code",
   "execution_count": 1,
   "metadata": {},
   "outputs": [
    {
     "data": {
      "text/latex": [
       "$\\displaystyle \\left[\\begin{matrix}c^{2} & 0 & 0 & 0\\\\0 & - \\frac{a^{2}}{- k r^{2} + 1} & 0 & 0\\\\0 & 0 & - a^{2} r^{2} & 0\\\\0 & 0 & 0 & - a^{2} r^{2} \\sin^{2}{\\left(\\theta \\right)}\\end{matrix}\\right]$"
      ],
      "text/plain": [
       "[[c**2, 0, 0, 0], [0, -a**2/(-k*r**2 + 1), 0, 0], [0, 0, -a**2*r**2, 0], [0, 0, 0, -a**2*r**2*sin(theta)**2]]"
      ]
     },
     "execution_count": 1,
     "metadata": {},
     "output_type": "execute_result"
    }
   ],
   "source": [
    "import numpy as np\n",
    "import sympy\n",
    "from einsteinpy.symbolic import MetricTensor, ChristoffelSymbols, RicciTensor, RicciScalar, RiemannCurvatureTensor, EinsteinTensor\n",
    "from einsteinpy.symbolic.stress_energy_momentum import StressEnergyMomentumTensor\n",
    "\n",
    "#make FLRW metric tensor\n",
    "\n",
    "syms = sympy.symbols(\"t r theta phi\")\n",
    "c, a, k, G = sympy.symbols(\"c a k G\")\n",
    "\n",
    "metric = [[0 for i in range(4)] for i in range(4)]\n",
    "\n",
    "metric[0][0] = c**2\n",
    "metric[1][1] = -1*(a**2)/(1-k*syms[1]**2)\n",
    "metric[2][2] = -1*(a**2)*(syms[1]**2)\n",
    "metric[3][3] = -1*(a**2)*(syms[1]**2)*(sympy.sin(syms[2])**2)\n",
    "\n",
    "\n",
    "FLRW_MT = MetricTensor(metric, syms)\n",
    "FLRW_MT.tensor()\n"
   ]
  },
  {
   "cell_type": "code",
   "execution_count": 2,
   "metadata": {},
   "outputs": [
    {
     "data": {
      "text/latex": [
       "$\\displaystyle \\left[\\begin{matrix}\\left[\\begin{matrix}0 & 0 & 0 & 0\\\\0 & 0 & 0 & 0\\\\0 & 0 & 0 & 0\\\\0 & 0 & 0 & 0\\end{matrix}\\right] & \\left[\\begin{matrix}0 & 0 & 0 & 0\\\\0 & - \\frac{k r \\left(k r^{2} - 1\\right)}{\\left(- k r^{2} + 1\\right)^{2}} & 0 & 0\\\\0 & 0 & r \\left(k r^{2} - 1\\right) & 0\\\\0 & 0 & 0 & r \\left(k r^{2} - 1\\right) \\sin^{2}{\\left(\\theta \\right)}\\end{matrix}\\right] & \\left[\\begin{matrix}0 & 0 & 0 & 0\\\\0 & 0 & \\frac{1}{r} & 0\\\\0 & \\frac{1}{r} & 0 & 0\\\\0 & 0 & 0 & - \\sin{\\left(\\theta \\right)} \\cos{\\left(\\theta \\right)}\\end{matrix}\\right] & \\left[\\begin{matrix}0 & 0 & 0 & 0\\\\0 & 0 & 0 & \\frac{1}{r}\\\\0 & 0 & 0 & \\frac{\\cos{\\left(\\theta \\right)}}{\\sin{\\left(\\theta \\right)}}\\\\0 & \\frac{1}{r} & \\frac{\\cos{\\left(\\theta \\right)}}{\\sin{\\left(\\theta \\right)}} & 0\\end{matrix}\\right]\\end{matrix}\\right]$"
      ],
      "text/plain": [
       "[[[0, 0, 0, 0], [0, 0, 0, 0], [0, 0, 0, 0], [0, 0, 0, 0]], [[0, 0, 0, 0], [0, -k*r*(k*r**2 - 1)/(-k*r**2 + 1)**2, 0, 0], [0, 0, r*(k*r**2 - 1), 0], [0, 0, 0, r*(k*r**2 - 1)*sin(theta)**2]], [[0, 0, 0, 0], [0, 0, 1/r, 0], [0, 1/r, 0, 0], [0, 0, 0, -sin(theta)*cos(theta)]], [[0, 0, 0, 0], [0, 0, 0, 1/r], [0, 0, 0, cos(theta)/sin(theta)], [0, 1/r, cos(theta)/sin(theta), 0]]]"
      ]
     },
     "execution_count": 2,
     "metadata": {},
     "output_type": "execute_result"
    }
   ],
   "source": [
    "#calculating Christoffel symbols\n",
    "\n",
    "ch = ChristoffelSymbols.from_metric(FLRW_MT)\n",
    "ch.tensor()"
   ]
  },
  {
   "cell_type": "code",
   "execution_count": 3,
   "metadata": {},
   "outputs": [
    {
     "data": {
      "text/latex": [
       "$\\displaystyle \\left[\\begin{matrix}\\left[\\begin{matrix}0 & 0 & 0 & 0\\\\0 & 0 & 0 & 0\\\\0 & 0 & 0 & 0\\\\0 & 0 & 0 & 0\\end{matrix}\\right] & \\left[\\begin{matrix}0 & 0 & 0 & 0\\\\0 & 0 & 0 & 0\\\\0 & 0 & 0 & 0\\\\0 & 0 & 0 & 0\\end{matrix}\\right] & \\left[\\begin{matrix}0 & 0 & 0 & 0\\\\0 & 0 & 0 & 0\\\\0 & 0 & 0 & 0\\\\0 & 0 & 0 & 0\\end{matrix}\\right] & \\left[\\begin{matrix}0 & 0 & 0 & 0\\\\0 & 0 & 0 & 0\\\\0 & 0 & 0 & 0\\\\0 & 0 & 0 & 0\\end{matrix}\\right]\\\\\\left[\\begin{matrix}0 & 0 & 0 & 0\\\\0 & 0 & 0 & 0\\\\0 & 0 & 0 & 0\\\\0 & 0 & 0 & 0\\end{matrix}\\right] & \\left[\\begin{matrix}0 & 0 & 0 & 0\\\\0 & 0 & 0 & 0\\\\0 & 0 & 0 & 0\\\\0 & 0 & 0 & 0\\end{matrix}\\right] & \\left[\\begin{matrix}0 & 0 & 0 & 0\\\\0 & 0 & k r^{2} & 0\\\\0 & - k r^{2} & 0 & 0\\\\0 & 0 & 0 & 0\\end{matrix}\\right] & \\left[\\begin{matrix}0 & 0 & 0 & 0\\\\0 & 0 & 0 & k r^{2} \\sin^{2}{\\left(\\theta \\right)}\\\\0 & 0 & 0 & 0\\\\0 & - k r^{2} \\sin^{2}{\\left(\\theta \\right)} & 0 & 0\\end{matrix}\\right]\\\\\\left[\\begin{matrix}0 & 0 & 0 & 0\\\\0 & 0 & 0 & 0\\\\0 & 0 & 0 & 0\\\\0 & 0 & 0 & 0\\end{matrix}\\right] & \\left[\\begin{matrix}0 & 0 & 0 & 0\\\\0 & 0 & \\frac{k}{k r^{2} - 1} & 0\\\\0 & - \\frac{k}{k r^{2} - 1} & 0 & 0\\\\0 & 0 & 0 & 0\\end{matrix}\\right] & \\left[\\begin{matrix}0 & 0 & 0 & 0\\\\0 & 0 & 0 & 0\\\\0 & 0 & 0 & 0\\\\0 & 0 & 0 & 0\\end{matrix}\\right] & \\left[\\begin{matrix}0 & 0 & 0 & 0\\\\0 & 0 & 0 & 0\\\\0 & 0 & 0 & k r^{2} \\sin^{2}{\\left(\\theta \\right)}\\\\0 & 0 & - k r^{2} \\sin^{2}{\\left(\\theta \\right)} & 0\\end{matrix}\\right]\\\\\\left[\\begin{matrix}0 & 0 & 0 & 0\\\\0 & 0 & 0 & 0\\\\0 & 0 & 0 & 0\\\\0 & 0 & 0 & 0\\end{matrix}\\right] & \\left[\\begin{matrix}0 & 0 & 0 & 0\\\\0 & 0 & 0 & \\frac{k}{k r^{2} - 1}\\\\0 & 0 & 0 & 0\\\\0 & - \\frac{k}{k r^{2} - 1} & 0 & 0\\end{matrix}\\right] & \\left[\\begin{matrix}0 & 0 & 0 & 0\\\\0 & 0 & 0 & 0\\\\0 & 0 & 0 & - k r^{2}\\\\0 & 0 & k r^{2} & 0\\end{matrix}\\right] & \\left[\\begin{matrix}0 & 0 & 0 & 0\\\\0 & 0 & 0 & 0\\\\0 & 0 & 0 & 0\\\\0 & 0 & 0 & 0\\end{matrix}\\right]\\end{matrix}\\right]$"
      ],
      "text/plain": [
       "[[[[0, 0, 0, 0], [0, 0, 0, 0], [0, 0, 0, 0], [0, 0, 0, 0]], [[0, 0, 0, 0], [0, 0, 0, 0], [0, 0, 0, 0], [0, 0, 0, 0]], [[0, 0, 0, 0], [0, 0, 0, 0], [0, 0, 0, 0], [0, 0, 0, 0]], [[0, 0, 0, 0], [0, 0, 0, 0], [0, 0, 0, 0], [0, 0, 0, 0]]], [[[0, 0, 0, 0], [0, 0, 0, 0], [0, 0, 0, 0], [0, 0, 0, 0]], [[0, 0, 0, 0], [0, 0, 0, 0], [0, 0, 0, 0], [0, 0, 0, 0]], [[0, 0, 0, 0], [0, 0, k*r**2, 0], [0, -k*r**2, 0, 0], [0, 0, 0, 0]], [[0, 0, 0, 0], [0, 0, 0, k*r**2*sin(theta)**2], [0, 0, 0, 0], [0, -k*r**2*sin(theta)**2, 0, 0]]], [[[0, 0, 0, 0], [0, 0, 0, 0], [0, 0, 0, 0], [0, 0, 0, 0]], [[0, 0, 0, 0], [0, 0, k/(k*r**2 - 1), 0], [0, -k/(k*r**2 - 1), 0, 0], [0, 0, 0, 0]], [[0, 0, 0, 0], [0, 0, 0, 0], [0, 0, 0, 0], [0, 0, 0, 0]], [[0, 0, 0, 0], [0, 0, 0, 0], [0, 0, 0, k*r**2*sin(theta)**2], [0, 0, -k*r**2*sin(theta)**2, 0]]], [[[0, 0, 0, 0], [0, 0, 0, 0], [0, 0, 0, 0], [0, 0, 0, 0]], [[0, 0, 0, 0], [0, 0, 0, k/(k*r**2 - 1)], [0, 0, 0, 0], [0, -k/(k*r**2 - 1), 0, 0]], [[0, 0, 0, 0], [0, 0, 0, 0], [0, 0, 0, -k*r**2], [0, 0, k*r**2, 0]], [[0, 0, 0, 0], [0, 0, 0, 0], [0, 0, 0, 0], [0, 0, 0, 0]]]]"
      ]
     },
     "execution_count": 3,
     "metadata": {},
     "output_type": "execute_result"
    }
   ],
   "source": [
    "# calculating Riemann Tensor from Metric Tensor\n",
    "\n",
    "rm = RiemannCurvatureTensor.from_metric(FLRW_MT)\n",
    "rm.tensor()"
   ]
  },
  {
   "cell_type": "code",
   "execution_count": 4,
   "metadata": {},
   "outputs": [
    {
     "data": {
      "text/latex": [
       "$\\displaystyle \\left[\\begin{matrix}0 & 0 & 0 & 0\\\\0 & - \\frac{2 k}{k r^{2} - 1} & 0 & 0\\\\0 & 0 & 2 k r^{2} & 0\\\\0 & 0 & 0 & 2 k r^{2} \\sin^{2}{\\left(\\theta \\right)}\\end{matrix}\\right]$"
      ],
      "text/plain": [
       "[[0, 0, 0, 0], [0, -2*k/(k*r**2 - 1), 0, 0], [0, 0, 2*k*r**2, 0], [0, 0, 0, 2*k*r**2*sin(theta)**2]]"
      ]
     },
     "execution_count": 4,
     "metadata": {},
     "output_type": "execute_result"
    }
   ],
   "source": [
    "#calculating Ricci Tensors \n",
    "\n",
    "Ric = RicciTensor.from_metric(FLRW_MT)\n",
    "Ric.tensor()"
   ]
  },
  {
   "cell_type": "code",
   "execution_count": 5,
   "metadata": {},
   "outputs": [
    {
     "data": {
      "text/latex": [
       "$\\displaystyle - \\frac{6 k}{a^{2}}$"
      ],
      "text/plain": [
       "-6*k/a**2"
      ]
     },
     "execution_count": 5,
     "metadata": {},
     "output_type": "execute_result"
    }
   ],
   "source": [
    "#calculating Ricci Scalar\n",
    "\n",
    "R = RicciScalar.from_riccitensor(Ric)\n",
    "R.simplify()\n",
    "R.expr"
   ]
  },
  {
   "cell_type": "code",
   "execution_count": null,
   "metadata": {},
   "outputs": [],
   "source": []
  },
  {
   "cell_type": "markdown",
   "metadata": {},
   "source": [
    "2. Calculate the Einstein tensor"
   ]
  },
  {
   "cell_type": "code",
   "execution_count": 6,
   "metadata": {},
   "outputs": [
    {
     "data": {
      "text/latex": [
       "$\\displaystyle \\left[\\begin{matrix}\\frac{3.0 c^{2} k}{a^{2}} & 0 & 0 & 0\\\\0 & - \\frac{2 k}{k r^{2} - 1} - \\frac{3.0 k}{- k r^{2} + 1} & 0 & 0\\\\0 & 0 & - 1.0 k r^{2} & 0\\\\0 & 0 & 0 & - 1.0 k r^{2} \\sin^{2}{\\left(\\theta \\right)}\\end{matrix}\\right]$"
      ],
      "text/plain": [
       "[[3.0*c**2*k/a**2, 0, 0, 0], [0, -2*k/(k*r**2 - 1) - 3.0*k/(-k*r**2 + 1), 0, 0], [0, 0, -1.0*k*r**2, 0], [0, 0, 0, -1.0*k*r**2*sin(theta)**2]]"
      ]
     },
     "execution_count": 6,
     "metadata": {},
     "output_type": "execute_result"
    }
   ],
   "source": [
    "#calculating Einstein tensor\n",
    "\n",
    "einst = EinsteinTensor.from_metric(FLRW_MT)\n",
    "einst.tensor()\n",
    "\n",
    "#This value corresponds to the value of  \"Ric_T - (0.5)*(R_S)*FLRW_MT\""
   ]
  },
  {
   "cell_type": "code",
   "execution_count": 7,
   "metadata": {},
   "outputs": [
    {
     "name": "stdout",
     "output_type": "stream",
     "text": [
      "[[3.0*c**2*k/a**2, 0, 0, 0], [0, -2*k/(k*r**2 - 1) - 3.0*k/(-k*r**2 + 1), 0, 0], [0, 0, -1.0*k*r**2, 0], [0, 0, 0, -1.0*k*r**2*sin(theta)**2]]\n"
     ]
    }
   ],
   "source": [
    "print(einst.arr)"
   ]
  },
  {
   "cell_type": "markdown",
   "metadata": {},
   "source": [
    "3.Define the Energy-Momentum Tensor"
   ]
  },
  {
   "cell_type": "code",
   "execution_count": 8,
   "metadata": {},
   "outputs": [
    {
     "data": {
      "text/latex": [
       "$\\displaystyle \\left[\\begin{matrix}\\frac{0.119366207318922 c^{6} k}{G a^{2}} & 0 & 0 & 0\\\\0 & \\frac{0.0397887357729738 c^{4} \\left(- \\frac{2 k}{k r^{2} - 1} - \\frac{3.0 k}{- k r^{2} + 1}\\right)}{G} & 0 & 0\\\\0 & 0 & - \\frac{0.0397887357729738 c^{4} k r^{2}}{G} & 0\\\\0 & 0 & 0 & - \\frac{0.0397887357729738 c^{4} k r^{2} \\sin^{2}{\\left(\\theta \\right)}}{G}\\end{matrix}\\right]$"
      ],
      "text/plain": [
       "[[0.119366207318922*c**6*k/(G*a**2), 0, 0, 0], [0, 0.0397887357729738*c**4*(-2*k/(k*r**2 - 1) - 3.0*k/(-k*r**2 + 1))/G, 0, 0], [0, 0, -0.0397887357729738*c**4*k*r**2/G, 0], [0, 0, 0, -0.0397887357729738*c**4*k*r**2*sin(theta)**2/G]]"
      ]
     },
     "execution_count": 8,
     "metadata": {},
     "output_type": "execute_result"
    }
   ],
   "source": [
    "#make Energy-Momentum Tensor using the values obtained above\n",
    "\n",
    "metric_EMT = [[0 for i in range(4)] for i in range(4)]\n",
    "\n",
    "metric_EMT[0][0] = (3.0*c**2*k/a**2)*(c**4/(8*np.pi*G))\n",
    "metric_EMT[1][1] = (-2*k/(k*syms[1]**2 - 1) - 3.0*k/(-k*syms[1]**2 + 1))*(c**4/(8*np.pi*G))\n",
    "metric_EMT[2][2] = (-1.0*k*syms[1]**2)*(c**4/(8*np.pi*G))\n",
    "metric_EMT[3][3] = (-1.0*k*syms[1]**2*sympy.sin(syms[2])**2)*(c**4/(8*np.pi*G))\n",
    "\n",
    "EMT = MetricTensor(metric_EMT, syms)\n",
    "EMT.tensor()"
   ]
  },
  {
   "cell_type": "code",
   "execution_count": 9,
   "metadata": {},
   "outputs": [
    {
     "data": {
      "text/latex": [
       "$\\displaystyle \\left[\\begin{matrix}\\frac{0.0397887357729738 c^{4} \\left(- c^{2} \\Lambda + \\frac{3.0 c^{2} k}{a^{2}}\\right)}{G} & 0 & 0 & 0\\\\0 & \\frac{0.0397887357729738 c^{4} \\left(\\frac{a^{2} \\Lambda}{- k r^{2} + 1} - \\frac{2 k}{k r^{2} - 1} - \\frac{3.0 k}{- k r^{2} + 1}\\right)}{G} & 0 & 0\\\\0 & 0 & \\frac{0.0397887357729738 c^{4} \\left(a^{2} r^{2} \\Lambda - 1.0 k r^{2}\\right)}{G} & 0\\\\0 & 0 & 0 & \\frac{0.0397887357729738 c^{4} \\left(a^{2} r^{2} \\Lambda \\sin^{2}{\\left(\\theta \\right)} - 1.0 k r^{2} \\sin^{2}{\\left(\\theta \\right)}\\right)}{G}\\end{matrix}\\right]$"
      ],
      "text/plain": [
       "[[0.0397887357729738*c**4*(-c**2*Lambda + 3.0*c**2*k/a**2)/G, 0, 0, 0], [0, 0.0397887357729738*c**4*(a**2*Lambda/(-k*r**2 + 1) - 2*k/(k*r**2 - 1) - 3.0*k/(-k*r**2 + 1))/G, 0, 0], [0, 0, 0.0397887357729738*c**4*(a**2*r**2*Lambda - 1.0*k*r**2)/G, 0], [0, 0, 0, 0.0397887357729738*c**4*(a**2*r**2*Lambda*sin(theta)**2 - 1.0*k*r**2*sin(theta)**2)/G]]"
      ]
     },
     "execution_count": 9,
     "metadata": {},
     "output_type": "execute_result"
    }
   ],
   "source": [
    "# It shows Energy-Momentum Tensor including lambda(cosmological constant) componenet\n",
    "# however, not adding(+), but subtract(-) consmological constant\n",
    "\n",
    "\n",
    "ET = StressEnergyMomentumTensor.from_metric(FLRW_MT)\n",
    "ET.tensor()"
   ]
  },
  {
   "cell_type": "code",
   "execution_count": null,
   "metadata": {},
   "outputs": [],
   "source": []
  },
  {
   "cell_type": "markdown",
   "metadata": {},
   "source": [
    "4. Assume Einstein equation and obtain the Friedmann equations"
   ]
  },
  {
   "cell_type": "code",
   "execution_count": 10,
   "metadata": {},
   "outputs": [],
   "source": [
    "#How do I know the Freidman equation when there is no differentail equation for 'a'?"
   ]
  },
  {
   "cell_type": "code",
   "execution_count": null,
   "metadata": {},
   "outputs": [],
   "source": []
  }
 ],
 "metadata": {
  "kernelspec": {
   "display_name": "Python 2",
   "language": "python",
   "name": "python2"
  },
  "language_info": {
   "codemirror_mode": {
    "name": "ipython",
    "version": 2
   },
   "file_extension": ".py",
   "mimetype": "text/x-python",
   "name": "python",
   "nbconvert_exporter": "python",
   "pygments_lexer": "ipython2",
   "version": "2.7.17"
  }
 },
 "nbformat": 4,
 "nbformat_minor": 2
}

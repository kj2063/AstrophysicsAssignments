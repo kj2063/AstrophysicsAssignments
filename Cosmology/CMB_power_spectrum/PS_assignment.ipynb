{
 "cells": [
  {
   "cell_type": "code",
   "execution_count": 1,
   "metadata": {
    "scrolled": true
   },
   "outputs": [
    {
     "ename": "ImportError",
     "evalue": "No module named camb",
     "output_type": "error",
     "traceback": [
      "\u001b[0;31m---------------------------------------------------------------------------\u001b[0m",
      "\u001b[0;31mImportError\u001b[0m                               Traceback (most recent call last)",
      "\u001b[0;32m<ipython-input-1-1626d1e635b2>\u001b[0m in \u001b[0;36m<module>\u001b[0;34m()\u001b[0m\n\u001b[1;32m      1\u001b[0m \u001b[0;32mimport\u001b[0m \u001b[0mmatplotlib\u001b[0m\u001b[0;34m.\u001b[0m\u001b[0mpyplot\u001b[0m \u001b[0;32mas\u001b[0m \u001b[0mplt\u001b[0m\u001b[0;34m\u001b[0m\u001b[0m\n\u001b[1;32m      2\u001b[0m \u001b[0;32mimport\u001b[0m \u001b[0mnumpy\u001b[0m \u001b[0;32mas\u001b[0m \u001b[0mnp\u001b[0m\u001b[0;34m\u001b[0m\u001b[0m\n\u001b[0;32m----> 3\u001b[0;31m \u001b[0;32mimport\u001b[0m \u001b[0mcamb\u001b[0m\u001b[0;34m\u001b[0m\u001b[0m\n\u001b[0m\u001b[1;32m      4\u001b[0m \u001b[0;31m# from camb import model, initialpower\u001b[0m\u001b[0;34m\u001b[0m\u001b[0;34m\u001b[0m\u001b[0m\n\u001b[1;32m      5\u001b[0m \u001b[0;32mimport\u001b[0m \u001b[0memcee\u001b[0m\u001b[0;34m\u001b[0m\u001b[0m\n",
      "\u001b[0;31mImportError\u001b[0m: No module named camb"
     ]
    }
   ],
   "source": [
    "import matplotlib.pyplot as plt\n",
    "import numpy as np\n",
    "import camb\n",
    "# from camb import model, initialpower\n",
    "import emcee\n",
    "from scipy import optimize\n",
    "\n",
    "# I try to install camb on jupyter but it's fail.\n",
    "# however I could install camb on my laptop. so, I use other programe to make code, and copy to jupyter."
   ]
  },
  {
   "cell_type": "markdown",
   "metadata": {},
   "source": [
    "1. Investigate the change in the power spectrum with varying a cosmological parameter of your choice."
   ]
  },
  {
   "cell_type": "code",
   "execution_count": 5,
   "metadata": {},
   "outputs": [
    {
     "ename": "NameError",
     "evalue": "name 'camb' is not defined",
     "output_type": "error",
     "traceback": [
      "\u001b[0;31m---------------------------------------------------------------------------\u001b[0m",
      "\u001b[0;31mNameError\u001b[0m                                 Traceback (most recent call last)",
      "\u001b[0;32m<ipython-input-5-e1e5446ab8c6>\u001b[0m in \u001b[0;36m<module>\u001b[0;34m()\u001b[0m\n\u001b[1;32m      4\u001b[0m \u001b[0;32mfor\u001b[0m \u001b[0mi\u001b[0m\u001b[0;34m,\u001b[0m\u001b[0mbaryon\u001b[0m\u001b[0;34m,\u001b[0m\u001b[0mdm\u001b[0m\u001b[0;34m,\u001b[0m\u001b[0mcurve\u001b[0m \u001b[0;32min\u001b[0m \u001b[0mnp\u001b[0m\u001b[0;34m.\u001b[0m\u001b[0marray\u001b[0m\u001b[0;34m(\u001b[0m\u001b[0;34m[\u001b[0m\u001b[0;34m[\u001b[0m\u001b[0;36m0\u001b[0m\u001b[0;34m,\u001b[0m\u001b[0;36m0.0196\u001b[0m\u001b[0;34m,\u001b[0m\u001b[0;36m0.1176\u001b[0m\u001b[0;34m,\u001b[0m\u001b[0;36m0\u001b[0m\u001b[0;34m]\u001b[0m\u001b[0;34m,\u001b[0m\u001b[0;34m[\u001b[0m\u001b[0;36m0\u001b[0m\u001b[0;34m,\u001b[0m\u001b[0;36m0.0196\u001b[0m\u001b[0;34m,\u001b[0m\u001b[0;36m0.2\u001b[0m\u001b[0;34m,\u001b[0m\u001b[0;36m0\u001b[0m\u001b[0;34m]\u001b[0m\u001b[0;34m,\u001b[0m\u001b[0;34m[\u001b[0m\u001b[0;36m0\u001b[0m\u001b[0;34m,\u001b[0m\u001b[0;36m0.0196\u001b[0m\u001b[0;34m,\u001b[0m\u001b[0;36m0.3\u001b[0m\u001b[0;34m,\u001b[0m\u001b[0;36m0\u001b[0m\u001b[0;34m]\u001b[0m\u001b[0;34m,\u001b[0m\u001b[0;34m[\u001b[0m\u001b[0;36m0\u001b[0m\u001b[0;34m,\u001b[0m\u001b[0;36m0.0196\u001b[0m\u001b[0;34m,\u001b[0m\u001b[0;36m0.4\u001b[0m\u001b[0;34m,\u001b[0m\u001b[0;36m0\u001b[0m\u001b[0;34m]\u001b[0m\u001b[0;34m,\u001b[0m\u001b[0;34m[\u001b[0m\u001b[0;36m0\u001b[0m\u001b[0;34m,\u001b[0m\u001b[0;36m0.0196\u001b[0m\u001b[0;34m,\u001b[0m\u001b[0;36m0.5\u001b[0m\u001b[0;34m,\u001b[0m\u001b[0;36m0\u001b[0m\u001b[0;34m]\u001b[0m\u001b[0;34m,\u001b[0m    \u001b[0;34m[\u001b[0m\u001b[0;36m1\u001b[0m\u001b[0;34m,\u001b[0m\u001b[0;36m0.0196\u001b[0m\u001b[0;34m,\u001b[0m\u001b[0;36m0.1176\u001b[0m\u001b[0;34m,\u001b[0m\u001b[0;36m0\u001b[0m\u001b[0;34m]\u001b[0m\u001b[0;34m,\u001b[0m\u001b[0;34m[\u001b[0m\u001b[0;36m1\u001b[0m\u001b[0;34m,\u001b[0m\u001b[0;36m0.03\u001b[0m\u001b[0;34m,\u001b[0m\u001b[0;36m0.1176\u001b[0m\u001b[0;34m,\u001b[0m\u001b[0;36m0\u001b[0m\u001b[0;34m]\u001b[0m\u001b[0;34m,\u001b[0m\u001b[0;34m[\u001b[0m\u001b[0;36m1\u001b[0m\u001b[0;34m,\u001b[0m\u001b[0;36m0.04\u001b[0m\u001b[0;34m,\u001b[0m\u001b[0;36m0.1176\u001b[0m\u001b[0;34m,\u001b[0m\u001b[0;36m0\u001b[0m\u001b[0;34m]\u001b[0m\u001b[0;34m,\u001b[0m\u001b[0;34m[\u001b[0m\u001b[0;36m1\u001b[0m\u001b[0;34m,\u001b[0m\u001b[0;36m0.05\u001b[0m\u001b[0;34m,\u001b[0m\u001b[0;36m0.1176\u001b[0m\u001b[0;34m,\u001b[0m\u001b[0;36m0\u001b[0m\u001b[0;34m]\u001b[0m\u001b[0;34m,\u001b[0m\u001b[0;34m[\u001b[0m\u001b[0;36m1\u001b[0m\u001b[0;34m,\u001b[0m\u001b[0;36m0.06\u001b[0m\u001b[0;34m,\u001b[0m\u001b[0;36m0.1176\u001b[0m\u001b[0;34m,\u001b[0m\u001b[0;36m0\u001b[0m\u001b[0;34m]\u001b[0m\u001b[0;34m,\u001b[0m        \u001b[0;34m[\u001b[0m\u001b[0;36m2\u001b[0m\u001b[0;34m,\u001b[0m\u001b[0;36m0.0196\u001b[0m\u001b[0;34m,\u001b[0m\u001b[0;36m0.1176\u001b[0m\u001b[0;34m,\u001b[0m\u001b[0;36m0\u001b[0m\u001b[0;34m]\u001b[0m\u001b[0;34m,\u001b[0m\u001b[0;34m[\u001b[0m\u001b[0;36m2\u001b[0m\u001b[0;34m,\u001b[0m\u001b[0;36m0.0196\u001b[0m\u001b[0;34m,\u001b[0m\u001b[0;36m0.1176\u001b[0m\u001b[0;34m,\u001b[0m\u001b[0;36m0.2\u001b[0m\u001b[0;34m]\u001b[0m\u001b[0;34m,\u001b[0m\u001b[0;34m[\u001b[0m\u001b[0;36m2\u001b[0m\u001b[0;34m,\u001b[0m\u001b[0;36m0.0196\u001b[0m\u001b[0;34m,\u001b[0m\u001b[0;36m0.1176\u001b[0m\u001b[0;34m,\u001b[0m\u001b[0;36m0.4\u001b[0m\u001b[0;34m]\u001b[0m\u001b[0;34m,\u001b[0m\u001b[0;34m[\u001b[0m\u001b[0;36m2\u001b[0m\u001b[0;34m,\u001b[0m\u001b[0;36m0.0196\u001b[0m\u001b[0;34m,\u001b[0m\u001b[0;36m0.1176\u001b[0m\u001b[0;34m,\u001b[0m\u001b[0;36m0.6\u001b[0m\u001b[0;34m]\u001b[0m\u001b[0;34m,\u001b[0m\u001b[0;34m[\u001b[0m\u001b[0;36m2\u001b[0m\u001b[0;34m,\u001b[0m\u001b[0;36m0.0196\u001b[0m\u001b[0;34m,\u001b[0m\u001b[0;36m0.1176\u001b[0m\u001b[0;34m,\u001b[0m\u001b[0;36m0.8\u001b[0m\u001b[0;34m]\u001b[0m\u001b[0;34m]\u001b[0m\u001b[0;34m)\u001b[0m\u001b[0;34m:\u001b[0m\u001b[0;34m\u001b[0m\u001b[0m\n\u001b[1;32m      5\u001b[0m \u001b[0;34m\u001b[0m\u001b[0m\n\u001b[0;32m----> 6\u001b[0;31m     \u001b[0mpars\u001b[0m \u001b[0;34m=\u001b[0m \u001b[0mcamb\u001b[0m\u001b[0;34m.\u001b[0m\u001b[0mCAMBparams\u001b[0m\u001b[0;34m(\u001b[0m\u001b[0;34m)\u001b[0m\u001b[0;34m\u001b[0m\u001b[0m\n\u001b[0m\u001b[1;32m      7\u001b[0m     \u001b[0mpars\u001b[0m\u001b[0;34m.\u001b[0m\u001b[0mset_cosmology\u001b[0m\u001b[0;34m(\u001b[0m\u001b[0mH0\u001b[0m\u001b[0;34m=\u001b[0m\u001b[0;36m70\u001b[0m \u001b[0;34m,\u001b[0m\u001b[0mombh2\u001b[0m\u001b[0;34m=\u001b[0m\u001b[0mbaryon\u001b[0m \u001b[0;34m,\u001b[0m\u001b[0momch2\u001b[0m\u001b[0;34m=\u001b[0m\u001b[0mdm\u001b[0m \u001b[0;34m,\u001b[0m\u001b[0momk\u001b[0m\u001b[0;34m=\u001b[0m\u001b[0mcurve\u001b[0m\u001b[0;34m)\u001b[0m\u001b[0;34m\u001b[0m\u001b[0m\n\u001b[1;32m      8\u001b[0m     \u001b[0mpars\u001b[0m\u001b[0;34m.\u001b[0m\u001b[0mset_for_lmax\u001b[0m\u001b[0;34m(\u001b[0m\u001b[0;36m2500\u001b[0m\u001b[0;34m)\u001b[0m\u001b[0;34m\u001b[0m\u001b[0m\n",
      "\u001b[0;31mNameError\u001b[0m: name 'camb' is not defined"
     ]
    },
    {
     "data": {
      "image/png": "[encoded data removed]",
      "text/plain": [
       "<Figure size 1512x648 with 3 Axes>"
      ]
     },
     "metadata": {},
     "output_type": "display_data"
    }
   ],
   "source": [
    "\n",
    "fig,ax = plt.subplots(1,3,figsize = (21,9))\n",
    "\n",
    "for i,baryon,dm,curve in np.array([[0,0.0196,0.1176,0],[0,0.0196,0.2,0],[0,0.0196,0.3,0],[0,0.0196,0.4,0],[0,0.0196,0.5,0],\\\n",
    "    [1,0.0196,0.1176,0],[1,0.03,0.1176,0],[1,0.04,0.1176,0],[1,0.05,0.1176,0],[1,0.06,0.1176,0],\\\n",
    "        [2,0.0196,0.1176,0],[2,0.0196,0.1176,0.2],[2,0.0196,0.1176,0.4],[2,0.0196,0.1176,0.6],[2,0.0196,0.1176,0.8]]):\n",
    "\n",
    "    pars = camb.CAMBparams()\n",
    "    pars.set_cosmology(H0=70 ,ombh2=baryon ,omch2=dm ,omk=curve)\n",
    "    pars.set_for_lmax(2500)\n",
    "\n",
    "    results = camb.get_results(pars)\n",
    "\n",
    "    powers =results.get_cmb_power_spectra(pars, CMB_unit='muK')\n",
    "\n",
    "    totCL = powers['total']\n",
    "\n",
    "    ls = np.arange(totCL.shape[0])\n",
    "\n",
    "    ax[int(i)].plot(ls,totCL[:,0],label='H0=70 baryon={} DM={} curve={}'.format(baryon,dm,curve))\n",
    "    ax[int(i)].legend(loc = 'upper right', fontsize = 8)\n",
    "\n",
    "    ax[int(i)].set_ylabel(\"$\\mu K^{2}$\")\n",
    "    ax[int(i)].set_xlabel(\"l\")\n",
    "plt.show()\n",
    "\n",
    "\n",
    "# if curvature density changes, We can see that all of peak position to 'l' changes, first peak also moved by curvature density.\n",
    "# so, from observation, we can compare the first peak position, and can define the parameter of curvature.\n",
    "# if baryon density changes , we can see the change of second peak amplitude. \n",
    "# also, if DM density changes, we can clearly see the change in the ratio of the second and third peaks.\n",
    "\n",
    "# even peaks shows minimum density, so baryon and DM density more larger make second peak lower."
   ]
  },
  {
   "cell_type": "markdown",
   "metadata": {},
   "source": [
    "2. measure chi2 for a cosmological model evaluated on the data."
   ]
  },
  {
   "cell_type": "code",
   "execution_count": 3,
   "metadata": {},
   "outputs": [
    {
     "ename": "SyntaxError",
     "evalue": "invalid syntax (<ipython-input-3-a620f105d199>, line 28)",
     "output_type": "error",
     "traceback": [
      "\u001b[0;36m  File \u001b[0;32m\"<ipython-input-3-a620f105d199>\"\u001b[0;36m, line \u001b[0;32m28\u001b[0m\n\u001b[0;31m    chi2 = dy.T @ cov @ dy\u001b[0m\n\u001b[0m                ^\u001b[0m\n\u001b[0;31mSyntaxError\u001b[0m\u001b[0;31m:\u001b[0m invalid syntax\n"
     ]
    }
   ],
   "source": [
    "\n",
    "a = open('wmap9.txt',\"r\")\n",
    "a_line = a.readlines()[20:]\n",
    "\n",
    "l = np.zeros(len(a_line))\n",
    "data = np.zeros(len(a_line))\n",
    "err = np.zeros(len(a_line))\n",
    "\n",
    "for i,ii in enumerate(a_line):\n",
    "    l[i] += float(ii.split()[0])\n",
    "    data[i] += float(ii.split()[1])\n",
    "    err[i] += float(ii.split()[2])\n",
    "    \n",
    "\n",
    "cov = np.diag(err**2)\n",
    "icov = np.linalg.inv(cov)\n",
    "\n",
    "def resi(theta,data,cov):\n",
    "    phy_bar,phy_DM,curv = theta\n",
    "    pars_d = camb.CAMBparams()\n",
    "    # pars_d.set_cosmology(H0=70 ,ombh2=0.0196 ,omch2=0.1176 ,omk=0)\n",
    "    pars_d.set_cosmology(H0=70 ,ombh2=phy_bar ,omch2=phy_DM ,omk=curv)\n",
    "    pars_d.set_for_lmax(1200)\n",
    "    results_d = camb.get_results(pars_d)\n",
    "    powers_d =results_d.get_cmb_power_spectra(pars_d, CMB_unit='muK')\n",
    "    model_d =powers_d['total'][1:1200,1]\n",
    "    dy = model_d - data\n",
    "    chi2 = dy.T @ cov @ dy\n",
    "    return chi2\n",
    "\n",
    "bounds = ((0,0.06),(0,0.6),(0,0.5))\n",
    "args = (data ,icov)\n",
    "res = optimize.differential_evolution(resi,bounds,args=args)\n",
    "\n",
    "print(res)\n",
    "\n",
    "# this code didn't work.\n",
    "# It raise 'ThemoData Init: failed to find end of recombination' error, but I couldn't figure out why this error occured.\n",
    "# there is same error on mcmc code too."
   ]
  },
  {
   "cell_type": "markdown",
   "metadata": {},
   "source": [
    "3. constrain cosmological parameters using MCMC etc."
   ]
  },
  {
   "cell_type": "code",
   "execution_count": 4,
   "metadata": {},
   "outputs": [
    {
     "ename": "SyntaxError",
     "evalue": "invalid syntax (<ipython-input-4-cff2ba4b9ed5>, line 19)",
     "output_type": "error",
     "traceback": [
      "\u001b[0;36m  File \u001b[0;32m\"<ipython-input-4-cff2ba4b9ed5>\"\u001b[0;36m, line \u001b[0;32m19\u001b[0m\n\u001b[0;31m    chi2 = dy.T @ icov @ dy\u001b[0m\n\u001b[0m                ^\u001b[0m\n\u001b[0;31mSyntaxError\u001b[0m\u001b[0;31m:\u001b[0m invalid syntax\n"
     ]
    }
   ],
   "source": [
    "\n",
    "def lnpi(theta):\n",
    "    phy_bar,phy_DM,curv = theta\n",
    "    if (0<phy_bar<0.06) and (0<phy_DM<0.5) and (-1<curv<1):\n",
    "        return 0\n",
    "    else:\n",
    "        return -np.inf\n",
    "\n",
    "def lnL(theta,data,icov):\n",
    "    phy_bar,phy_DM,curv = theta\n",
    "    pars_d = camb.CAMBparams()\n",
    "    # pars_d.set_cosmology(H0=70 ,ombh2=0.0196 ,omch2=0.1176 ,omk=0)\n",
    "    pars_d.set_cosmology(H0=70 ,ombh2=phy_bar ,omch2=phy_DM ,omk=curv)\n",
    "    pars_d.set_for_lmax(1200)\n",
    "    results_d = camb.get_results(pars_d)\n",
    "    powers_d =results_d.get_cmb_power_spectra(pars_d, CMB_unit='muK')\n",
    "    model_d =powers_d['total'][1:1200,1]\n",
    "    dy = model_d - data\n",
    "    chi2 = dy.T @ icov @ dy\n",
    "    return -.5*chi2\n",
    "\n",
    "def lnp(theta,data,icov):\n",
    "    lp = lnpi(theta)\n",
    "    if lp == -np.inf:\n",
    "        return lp\n",
    "    return lnL(theta,data,icov) + lp\n",
    "\n",
    "ndim = 3\n",
    "nwalkers = 10 \n",
    "p0 = np.array([0.02,0.1,0]) + 1.e-1*np.random.randn(nwalkers,ndim)\n",
    "niter = 2000\n",
    "sampler = emcee.EnsembleSampler(nwalkers,ndim,lnp,args=(data,icov))\n",
    "sampler.run_mcmc(p0,niter,progress=True)\n",
    "\n",
    "\n",
    "fig,axes = plt.subplots(3,figsize=(12,7),sharex=True)\n",
    "samples = sampler.get_chain()\n",
    "labels = [\"phy_bar\",\"phy_DM\",\"curve\"]\n",
    "\n",
    "for i in range(ndim):\n",
    "    ax = axes[i]\n",
    "    ax.plot(samples[:,:,i],\"k\", alpha=0.3)\n",
    "\n",
    "plt.show()"
   ]
  },
  {
   "cell_type": "code",
   "execution_count": null,
   "metadata": {},
   "outputs": [],
   "source": []
  },
  {
   "cell_type": "code",
   "execution_count": null,
   "metadata": {},
   "outputs": [],
   "source": []
  },
  {
   "cell_type": "code",
   "execution_count": null,
   "metadata": {},
   "outputs": [],
   "source": []
  },
  {
   "cell_type": "code",
   "execution_count": null,
   "metadata": {},
   "outputs": [],
   "source": []
  }
 ],
 "metadata": {
  "kernelspec": {
   "display_name": "Python 2",
   "language": "python",
   "name": "python2"
  },
  "language_info": {
   "codemirror_mode": {
    "name": "ipython",
    "version": 2
   },
   "file_extension": ".py",
   "mimetype": "text/x-python",
   "name": "python",
   "nbconvert_exporter": "python",
   "pygments_lexer": "ipython2",
   "version": "2.7.17"
  }
 },
 "nbformat": 4,
 "nbformat_minor": 2
}
